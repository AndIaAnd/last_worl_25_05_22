{
 "cells": [
  {
   "cell_type": "markdown",
   "metadata": {},
   "source": [
    "# Регрессия \n",
    "это процесс оценки того, как соотносятся между собой входные\n",
    "и выходные переменные. Следует отметить, что выходные переменные\n",
    "могут иметь значения из непрерывною ряда вещественных чисел. Следовательно,\n",
    "существует бесконечное количество результирующих возможностей.\n",
    "Эго резко контрастирует с процессом классификации, в котором количество\n",
    "выходных классов фиксировано.\n",
    "В регрессии предполагается, что выходные переменные зависят от входных,\n",
    "и наша задача заключается в выяснении соотношения между ними.\n",
    "Отсюда входные переменные называют независимыми переменными (или предиктора.\n",
    "ми), а выходные - зависимыми (или критериальными переменными).\n",
    "При этом вовсе не требуется, чтобы входные переменные были независимыми\n",
    "друг от друга. Существует множество сюуаций, когда между входными\n",
    "переменными существует корреляция.\n",
    "Регрессионный анализ позволяет выяснить, как изменяется значение выходной\n",
    "переменной, когда мы изменяем лишь часть входных переменных,\n",
    "оставляя остальные входные переменные фиксированными. В случае линейной\n",
    "регрессии предполагается, что входные и выходные переменные связаны\n",
    "между собой линейной зависимостью. Эго налагает ограничения на нашу\n",
    "процедуру моделирования, но ускоряет ее и делает более эффективной.\n",
    "Иногда линейной регрессии оказывается недостаточно для объяснения соотношений\n",
    "между входными и выходными переменными. В подобных случаях\n",
    "мы используем по11иномиальную регрессию, в которой входные и\n",
    "выходные переменные связаны между собой полиномиальной зависимостью.\n",
    "С вычислительной точки зрения такой подход более сложен, но обеспечивает\n",
    "более высокую точность."
   ]
  },
  {
   "cell_type": "code",
   "execution_count": 2,
   "metadata": {},
   "outputs": [],
   "source": [
    "# создание регрессора одной переменной \n",
    "import pickle \n",
    "\n",
    "import numpy as np \n",
    "\n",
    "from sklearn import linear_model\n",
    "import sklearn.metrics as sm\n",
    "import matplotlib.pyplot as plt\n",
    "from sklearn.model_selection import train_test_split "
   ]
  },
  {
   "cell_type": "code",
   "execution_count": 3,
   "metadata": {},
   "outputs": [],
   "source": [
    "input_file = 'data_singlevar_regr.txt'"
   ]
  },
  {
   "cell_type": "markdown",
   "metadata": {},
   "source": [
    "В этом текстовом файле в качестве разделителя используется запятая,\n",
    "поэтому для загрузки данных можно воспользоваться следующим вызовом\n",
    "функции."
   ]
  },
  {
   "cell_type": "code",
   "execution_count": 4,
   "metadata": {},
   "outputs": [],
   "source": [
    "data = np.loadtxt(input_file, delimiter=',') #в файле разделитель - ,\n",
    "X, y = data[:, :-1], data[:, -1]"
   ]
  },
  {
   "cell_type": "markdown",
   "metadata": {},
   "source": [
    "Разобьем данные на обучающий и тестовый набор\n"
   ]
  },
  {
   "cell_type": "code",
   "execution_count": 5,
   "metadata": {},
   "outputs": [],
   "source": [
    "# еще один способ\n",
    "num_training = int(0.8 * len(X))\n",
    "num_test = len(X) - num_training\n",
    "X_train, y_train = X[:num_training], y[:num_training]\n",
    "X_test, y_test = X[num_training:], y[num_training:]"
   ]
  },
  {
   "cell_type": "code",
   "execution_count": 6,
   "metadata": {},
   "outputs": [],
   "source": [
    "X_train, X_test, y_train, y_test = train_test_split(X, y, test_size=0.2, random_state=42)"
   ]
  },
  {
   "cell_type": "code",
   "execution_count": 7,
   "metadata": {},
   "outputs": [
    {
     "data": {
      "text/plain": [
       "LinearRegression()"
      ]
     },
     "execution_count": 7,
     "metadata": {},
     "output_type": "execute_result"
    }
   ],
   "source": [
    "regressor = linear_model.LinearRegression()\n",
    "regressor.fit(X_train, y_train)\n"
   ]
  },
  {
   "cell_type": "code",
   "execution_count": 8,
   "metadata": {},
   "outputs": [],
   "source": [
    "# predict\n",
    "y_test_pred = regressor.predict(X_test)"
   ]
  },
  {
   "cell_type": "code",
   "execution_count": 13,
   "metadata": {},
   "outputs": [
    {
     "data": {
      "image/png": "[encoded data removed]",
      "image/svg+xml": "<?xml version=\"1.0\" encoding=\"utf-8\" standalone=\"no\"?>\r\n<!DOCTYPE svg PUBLIC \"-//W3C//DTD SVG 1.1//EN\"\r\n  \"http://www.w3.org/Graphics/SVG/1.1/DTD/svg11.dtd\">\r\n<svg height=\"360pt\" version=\"1.1\" viewBox=\"0 0 460.8 360\" width=\"460.8pt\" xmlns=\"http://www.w3.org/2000/svg\" xmlns:xlink=\"http://www.w3.org/1999/xlink\">\r\n <metadata>\r\n  <rdf:RDF xmlns:cc=\"http://creativecommons.org/ns#\" xmlns:dc=\"http://purl.org/dc/elements/1.1/\" xmlns:rdf=\"http://www.w3.org/1999/02/22-rdf-syntax-ns#\">\r\n   <cc:Work>\r\n    <dc:type rdf:resource=\"http://purl.org/dc/dcmitype/StillImage\"/>\r\n    <dc:date>2022-05-24T12:11:54.778826</dc:date>\r\n    <dc:format>image/svg+xml</dc:format>\r\n    <dc:creator>\r\n     <cc:Agent>\r\n      <dc:title>Matplotlib v3.4.3, https://matplotlib.org/</dc:title>\r\n     </cc:Agent>\r\n    </dc:creator>\r\n   </cc:Work>\r\n  </rdf:RDF>\r\n </metadata>\r\n <defs>\r\n  <style type=\"text/css\">*{stroke-linecap:butt;stroke-linejoin:round;}</style>\r\n </defs>\r\n <g id=\"figure_1\">\r\n  <g id=\"patch_1\">\r\n   <path d=\"M 0 360 \r\nL 460.8 360 \r\nL 460.8 0 \r\nL 0 0 \r\nz\r\n\" style=\"fill:#bfbfbf;\"/>\r\n  </g>\r\n  <g id=\"axes_1\">\r\n   <g id=\"patch_2\">\r\n    <path d=\"M 7.2 352.8 \r\nL 453.6 352.8 \r\nL 453.6 7.2 \r\nL 7.2 7.2 \r\nz\r\n\" style=\"fill:#ffffff;\"/>\r\n   </g>\r\n   <g id=\"PathCollection_1\">\r\n    <defs>\r\n     <path d=\"M 0 2.236068 \r\nC 0.593012 2.236068 1.161816 2.000462 1.581139 1.581139 \r\nC 2.000462 1.161816 2.236068 0.593012 2.236068 0 \r\nC 2.236068 -0.593012 2.000462 -1.161816 1.581139 -1.581139 \r\nC 1.161816 -2.000462 0.593012 -2.236068 0 -2.236068 \r\nC -0.593012 -2.236068 -1.161816 -2.000462 -1.581139 -1.581139 \r\nC -2.000462 -1.161816 -2.236068 -0.593012 -2.236068 0 \r\nC -2.236068 0.593012 -2.000462 1.161816 -1.581139 1.581139 \r\nC -1.161816 2.000462 -0.593012 2.236068 0 2.236068 \r\nz\r\n\" id=\"mf370a5a490\" style=\"stroke:#008000;\"/>\r\n    </defs>\r\n    <g clip-path=\"url(#pc371945eb5)\">\r\n     <use style=\"fill:#008000;stroke:#008000;\" x=\"183.201581\" xlink:href=\"#mf370a5a490\" y=\"150.561479\"/>\r\n     <use style=\"fill:#008000;stroke:#008000;\" x=\"363.614229\" xlink:href=\"#mf370a5a490\" y=\"102.29862\"/>\r\n     <use style=\"fill:#008000;stroke:#008000;\" x=\"198.199209\" xlink:href=\"#mf370a5a490\" y=\"255.348408\"/>\r\n     <use style=\"fill:#008000;stroke:#008000;\" x=\"196.434783\" xlink:href=\"#mf370a5a490\" y=\"143.16987\"/>\r\n     <use style=\"fill:#008000;stroke:#008000;\" x=\"27.490909\" xlink:href=\"#mf370a5a490\" y=\"337.090909\"/>\r\n     <use style=\"fill:#008000;stroke:#008000;\" x=\"405.519368\" xlink:href=\"#mf370a5a490\" y=\"92.733008\"/>\r\n     <use style=\"fill:#008000;stroke:#008000;\" x=\"103.361265\" xlink:href=\"#mf370a5a490\" y=\"234.043182\"/>\r\n     <use style=\"fill:#008000;stroke:#008000;\" x=\"433.309091\" xlink:href=\"#mf370a5a490\" y=\"34.904536\"/>\r\n     <use style=\"fill:#008000;stroke:#008000;\" x=\"197.316996\" xlink:href=\"#mf370a5a490\" y=\"163.605495\"/>\r\n     <use style=\"fill:#008000;stroke:#008000;\" x=\"254.66087\" xlink:href=\"#mf370a5a490\" y=\"160.127091\"/>\r\n     <use style=\"fill:#008000;stroke:#008000;\" x=\"176.58498\" xlink:href=\"#mf370a5a490\" y=\"200.563541\"/>\r\n     <use style=\"fill:#008000;stroke:#008000;\" x=\"74.689328\" xlink:href=\"#mf370a5a490\" y=\"236.217185\"/>\r\n    </g>\r\n   </g>\r\n   <g id=\"line2d_1\">\r\n    <path clip-path=\"url(#pc371945eb5)\" d=\"M 183.201581 190.185903 \r\nL 363.614229 69.522383 \r\nL 198.199209 180.155195 \r\nL 196.434783 181.335278 \r\nL 27.490909 294.328257 \r\nL 405.519368 41.495403 \r\nL 103.361265 243.584674 \r\nL 433.309091 22.909091 \r\nL 197.316996 180.745237 \r\nL 254.66087 142.392528 \r\nL 176.58498 194.611216 \r\nL 74.689328 262.761028 \r\n\" style=\"fill:none;stroke:#0000ff;stroke-linecap:square;stroke-width:4;\"/>\r\n   </g>\r\n   <g id=\"patch_3\">\r\n    <path d=\"M 7.2 352.8 \r\nL 7.2 7.2 \r\n\" style=\"fill:none;stroke:#000000;stroke-linecap:square;stroke-linejoin:miter;\"/>\r\n   </g>\r\n   <g id=\"patch_4\">\r\n    <path d=\"M 453.6 352.8 \r\nL 453.6 7.2 \r\n\" style=\"fill:none;stroke:#000000;stroke-linecap:square;stroke-linejoin:miter;\"/>\r\n   </g>\r\n   <g id=\"patch_5\">\r\n    <path d=\"M 7.2 352.8 \r\nL 453.6 352.8 \r\n\" style=\"fill:none;stroke:#000000;stroke-linecap:square;stroke-linejoin:miter;\"/>\r\n   </g>\r\n   <g id=\"patch_6\">\r\n    <path d=\"M 7.2 7.2 \r\nL 453.6 7.2 \r\n\" style=\"fill:none;stroke:#000000;stroke-linecap:square;stroke-linejoin:miter;\"/>\r\n   </g>\r\n   <g id=\"matplotlib.axis_1\"/>\r\n   <g id=\"matplotlib.axis_2\"/>\r\n  </g>\r\n </g>\r\n <defs>\r\n  <clipPath id=\"pc371945eb5\">\r\n   <rect height=\"345.6\" width=\"446.4\" x=\"7.2\" y=\"7.2\"/>\r\n  </clipPath>\r\n </defs>\r\n</svg>\r\n",
      "text/plain": [
       "<Figure size 640x480 with 1 Axes>"
      ]
     },
     "metadata": {},
     "output_type": "display_data"
    }
   ],
   "source": [
    "#plot\n",
    "plt.style.use('classic')\n",
    "plt.scatter(X_test, y_test, color = 'green')\n",
    "plt.plot(X_test, y_test_pred, linewidth = 4)\n",
    "plt.xticks(())\n",
    "plt.yticks(())\n",
    "plt.show()"
   ]
  },
  {
   "cell_type": "code",
   "execution_count": 15,
   "metadata": {},
   "outputs": [
    {
     "name": "stdout",
     "output_type": "stream",
     "text": [
      "linear regressor perfomance:\n",
      "Mean absolute error= 0.71\n",
      "Median absolutle error = 0.68\n",
      "explain variance score= 0.8\n",
      "R2 score = 0.79\n"
     ]
    }
   ],
   "source": [
    "# метрические характеристики \n",
    "print(\"linear regressor perfomance:\")\n",
    "print(\"Mean absolute error=\", round(sm.mean_absolute_error(y_test, y_test_pred), 2))\n",
    "print(\"Median absolutle error =\", round(sm.median_absolute_error(y_test, y_test_pred), 2))\n",
    "print(\"explain variance score=\", round(sm.explained_variance_score(y_test, y_test_pred), 2))\n",
    "print(\"R2 score =\", round(sm.r2_score(y_test, y_test_pred), 2))"
   ]
  },
  {
   "cell_type": "code",
   "execution_count": 16,
   "metadata": {},
   "outputs": [],
   "source": [
    "# сохраним модель \n",
    "out_model_file = 'model.pkl'\n",
    "\n",
    "with open(out_model_file, 'wb') as f:\n",
    "    pickle.dump(regressor, f)\n",
    "    "
   ]
  },
  {
   "cell_type": "code",
   "execution_count": 17,
   "metadata": {},
   "outputs": [],
   "source": [
    "# попробуем загрузить и протестировать модель \n",
    "with open(out_model_file, 'rb') as f:\n",
    "    regressor_model = pickle.load(f)"
   ]
  },
  {
   "cell_type": "code",
   "execution_count": 18,
   "metadata": {},
   "outputs": [
    {
     "name": "stdout",
     "output_type": "stream",
     "text": [
      "\n",
      " New mean absolutle error =  0.71\n"
     ]
    }
   ],
   "source": [
    "# используем для прогноза на тестовых данных\n",
    "y_test_pred_new = regressor_model.predict(X_test)\n",
    "print(\"\\n New mean absolutle error = \", round(sm.mean_absolute_error(y_test, y_test_pred_new), 2))"
   ]
  },
  {
   "cell_type": "code",
   "execution_count": null,
   "metadata": {},
   "outputs": [],
   "source": []
  }
 ],
 "metadata": {
  "interpreter": {
   "hash": "ad2bdc8ecc057115af97d19610ffacc2b4e99fae6737bb82f5d7fb13d2f2c186"
  },
  "kernelspec": {
   "display_name": "Python 3.9.7 ('base')",
   "language": "python",
   "name": "python3"
  },
  "language_info": {
   "codemirror_mode": {
    "name": "ipython",
    "version": 3
   },
   "file_extension": ".py",
   "mimetype": "text/x-python",
   "name": "python",
   "nbconvert_exporter": "python",
   "pygments_lexer": "ipython3",
   "version": "3.9.7"
  },
  "orig_nbformat": 4
 },
 "nbformat": 4,
 "nbformat_minor": 2
}
